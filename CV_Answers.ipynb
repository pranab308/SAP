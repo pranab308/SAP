{
  "nbformat": 4,
  "nbformat_minor": 0,
  "metadata": {
    "colab": {
      "provenance": [],
      "authorship_tag": "ABX9TyNKgrctH3NSGpCC0vK+LCT3",
      "include_colab_link": true
    },
    "kernelspec": {
      "name": "python3",
      "display_name": "Python 3"
    },
    "language_info": {
      "name": "python"
    }
  },
  "cells": [
    {
      "cell_type": "markdown",
      "metadata": {
        "id": "view-in-github",
        "colab_type": "text"
      },
      "source": [
        "<a href=\"https://colab.research.google.com/github/pranab308/SAP/blob/master/CV_Answers.ipynb\" target=\"_parent\"><img src=\"https://colab.research.google.com/assets/colab-badge.svg\" alt=\"Open In Colab\"/></a>"
      ]
    },
    {
      "cell_type": "code",
      "execution_count": 12,
      "metadata": {
        "colab": {
          "base_uri": "https://localhost:8080/"
        },
        "id": "28OxPRV9QdyA",
        "outputId": "4c5a47eb-111d-4857-ede7-006dfb7f4dbd"
      },
      "outputs": [
        {
          "output_type": "stream",
          "name": "stdout",
          "text": [
            "Attempting to extract text from: /content/PranabKumar.pdf\n",
            "Successfully extracted text (5840 characters).\n",
            "\n",
            "Asking the question: 'My phone number and my email address'\n"
          ]
        },
        {
          "output_type": "stream",
          "name": "stderr",
          "text": [
            "Some weights of the model checkpoint at bert-large-uncased-whole-word-masking-finetuned-squad were not used when initializing BertForQuestionAnswering: ['bert.pooler.dense.bias', 'bert.pooler.dense.weight']\n",
            "- This IS expected if you are initializing BertForQuestionAnswering from the checkpoint of a model trained on another task or with another architecture (e.g. initializing a BertForSequenceClassification model from a BertForPreTraining model).\n",
            "- This IS NOT expected if you are initializing BertForQuestionAnswering from the checkpoint of a model that you expect to be exactly identical (initializing a BertForSequenceClassification model from a BertForSequenceClassification model).\n",
            "Device set to use cpu\n"
          ]
        },
        {
          "output_type": "stream",
          "name": "stdout",
          "text": [
            "Question Answering pipeline loaded.\n",
            "\n",
            "--- Answer ---\n",
            "Could not find a confident answer. (Best match: 'pranab308@gmail.com' with score 0.24)\n"
          ]
        }
      ],
      "source": [
        "#!pip install PyPDF2 transformers torch\n",
        "\n",
        "import PyPDF2\n",
        "from transformers import pipeline\n",
        "import os # Import os for checking file existence\n",
        "\n",
        "# --- Configuration ---\n",
        "PDF_FILE_PATH = '/content/PranabKumar.pdf' # <<< IMPORTANT: Change this to your PDF path\n",
        "QUESTION = \"My phone number and my email address\" # <<< Your question\n",
        "\n",
        "# --- 1. PDF Text Extraction ---\n",
        "def extract_text_from_pdf(pdf_path):\n",
        "  \"\"\"Extracts text from a PDF file.\"\"\"\n",
        "  text = \"\"\n",
        "  if not os.path.exists(pdf_path):\n",
        "      print(f\"Error: File not found at {pdf_path}\")\n",
        "      return None\n",
        "\n",
        "  try:\n",
        "    with open(pdf_path, 'rb') as file:\n",
        "      reader = PyPDF2.PdfReader(file)\n",
        "      # Check if the PDF has pages\n",
        "      if len(reader.pages) == 0:\n",
        "          print(f\"Error: PDF file at {pdf_path} contains no pages.\")\n",
        "          return None\n",
        "\n",
        "      for page_num in range(len(reader.pages)):\n",
        "        page = reader.pages[page_num]\n",
        "        page_text = page.extract_text()\n",
        "        if page_text: # Add text only if extraction was successful\n",
        "            text += page_text + \"\\n\" # Add newline between pages for better readability\n",
        "        else:\n",
        "            print(f\"Warning: Could not extract text from page {page_num + 1}.\")\n",
        "\n",
        "  except Exception as e:\n",
        "    print(f\"An error occurred while reading the PDF: {e}\")\n",
        "    return None\n",
        "\n",
        "  if not text.strip(): # Check if extracted text is empty or only whitespace\n",
        "      print(f\"Error: No readable text extracted from PDF file at {pdf_path}.\")\n",
        "      return None\n",
        "\n",
        "  return text\n",
        "\n",
        "# --- 2. Question Answering ---\n",
        "def answer_question_from_text(text, question):\n",
        "  \"\"\"Uses a QA model to find the answer to a question in the text.\"\"\"\n",
        "  if not text:\n",
        "      print(\"Cannot answer question: Input text is empty.\")\n",
        "      return \"Error: Input text is empty.\"\n",
        "\n",
        "  try:\n",
        "    # Load a pre-trained Question Answering pipeline\n",
        "    # 'distilbert-base-cased-distilled-squad' is a good, relatively fast model\n",
        "    # You can explore others like 'bert-large-uncased-whole-word-masking-finetuned-squad'\n",
        "    # or 'deepset/roberta-base-squad2'\n",
        "\n",
        "    qa_pipeline = pipeline(\"question-answering\", model=\"bert-large-uncased-whole-word-masking-finetuned-squad\")\n",
        "    #qa_pipeline = pipeline(\"feature-extraction\", model=\"google-bert/bert-base-uncased\")\n",
        "    print(\"Question Answering pipeline loaded.\")\n",
        "\n",
        "    # The pipeline expects a dictionary with 'question' and 'context'\n",
        "    result = qa_pipeline(question=question, context=text)\n",
        "\n",
        "    # The result is a dictionary containing the answer, score, start, and end positions\n",
        "    answer = result.get('answer', 'Could not find an answer.')\n",
        "    score = result.get('score', 0.0)\n",
        "\n",
        "    # Set a confidence threshold for the answer\n",
        "    confidence_threshold = 0.8 # Adjust this threshold as needed\n",
        "\n",
        "    if score > confidence_threshold and answer != 'Could not find an answer.':\n",
        "        return f\"Answer: {answer} (Confidence: {score:.2f})\"\n",
        "    else:\n",
        "        # If confidence is low, the answer might not be accurate or found\n",
        "        return f\"Could not find a confident answer. (Best match: '{answer}' with score {score:.2f})\"\n",
        "\n",
        "\n",
        "  except Exception as e:\n",
        "      print(f\"An error occurred during question answering: {e}\")\n",
        "      # Consider uncommenting raise e to see the full traceback if debugging\n",
        "      # raise e\n",
        "      return \"Error: Could not generate answer due to an unexpected error.\"\n",
        "\n",
        "\n",
        "# --- Main Execution ---\n",
        "if __name__ == \"__main__\":\n",
        "    print(f\"Attempting to extract text from: {PDF_FILE_PATH}\")\n",
        "    cv_text = extract_text_from_pdf(PDF_FILE_PATH)\n",
        "\n",
        "    if cv_text:\n",
        "        print(f\"Successfully extracted text ({len(cv_text)} characters).\")\n",
        "        print(f\"\\nAsking the question: '{QUESTION}'\")\n",
        "        answer = answer_question_from_text(cv_text, QUESTION)\n",
        "        print(\"\\n--- Answer ---\")\n",
        "        print(answer)\n",
        "    else:\n",
        "        print(\"\\n--- Result ---\")\n",
        "        print(\"Failed to extract text from the PDF. Cannot answer the question.\")"
      ]
    },
    {
      "cell_type": "code",
      "source": [],
      "metadata": {
        "id": "YTvMQiIOSZ7U"
      },
      "execution_count": null,
      "outputs": []
    }
  ]
}