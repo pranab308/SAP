{
  "nbformat": 4,
  "nbformat_minor": 0,
  "metadata": {
    "colab": {
      "provenance": [],
      "authorship_tag": "ABX9TyN+pa+ovoY4iHIPdLn9tt+n",
      "include_colab_link": true
    },
    "kernelspec": {
      "name": "python3",
      "display_name": "Python 3"
    },
    "language_info": {
      "name": "python"
    }
  },
  "cells": [
    {
      "cell_type": "markdown",
      "metadata": {
        "id": "view-in-github",
        "colab_type": "text"
      },
      "source": [
        "<a href=\"https://colab.research.google.com/github/pranab308/SAP/blob/master/pdf_summarry_code.ipynb\" target=\"_parent\"><img src=\"https://colab.research.google.com/assets/colab-badge.svg\" alt=\"Open In Colab\"/></a>"
      ]
    },
    {
      "cell_type": "code",
      "execution_count": 14,
      "metadata": {
        "colab": {
          "base_uri": "https://localhost:8080/",
          "height": 261
        },
        "id": "LJaq8NlQrhL7",
        "outputId": "31a3fb67-0d64-4094-ab23-c3fea6836297"
      },
      "outputs": [
        {
          "output_type": "stream",
          "name": "stderr",
          "text": [
            "Device set to use cpu\n"
          ]
        },
        {
          "output_type": "stream",
          "name": "stdout",
          "text": [
            "Summarization pipeline loaded.\n",
            "Calling summarizer...\n",
            "Summarizer call finished.\n",
            "Type of raw_summarization_results: <class 'list'>\n",
            "Length of raw_summarization_results: 1\n",
            "Type of first element: <class 'dict'>\n",
            "Keys of first element: dict_keys(['summary_text'])\n",
            "\n",
            "Summary:\n"
          ]
        },
        {
          "output_type": "execute_result",
          "data": {
            "text/plain": [
              "'Tax Invoice is issued on behalf of Transport Service Provider. Blu-Smart Mobility Tech Private Limited acts in the capacity of an Electronic Commerce Operator as per Section 9(5) of the Central Goods & Service Tax Act, 2017. This is an electronically generated invoice and does not require a digital signature.'"
            ],
            "application/vnd.google.colaboratory.intrinsic+json": {
              "type": "string"
            }
          },
          "metadata": {},
          "execution_count": 14
        }
      ],
      "source": [
        "# prompt: Can you write down code which read pdf file and give me summary based on the user prompt\n",
        "#!pip install PyPDF2\n",
        "#!pip install huggingface_hub\n",
        "#!huggingface-cli login\n",
        "\n",
        "\n",
        "import PyPDF2\n",
        "from transformers import pipeline\n",
        "\n",
        "def extract_text_from_pdf(pdf_path):\n",
        "  \"\"\"Extracts text from a PDF file.\"\"\"\n",
        "  text = \"\"\n",
        "  try:\n",
        "    with open(pdf_path, 'rb') as file:\n",
        "      reader = PyPDF2.PdfReader(file)\n",
        "      for page_num in range(len(reader.pages)):\n",
        "        text += reader.pages[page_num].extract_text()\n",
        "  except FileNotFoundError:\n",
        "    print(f\"Error: File not found at {pdf_path}\")\n",
        "    return None\n",
        "  except Exception as e:\n",
        "    print(f\"An error occurred while reading the PDF: {e}\")\n",
        "    return None\n",
        "  return text\n",
        "\n",
        "\n",
        "def generate_summary(text, prompt):\n",
        "  \"\"\"Generates a summary based on the provided text and prompt.\"\"\"\n",
        "  if not text or len(text) < 100:\n",
        "    print(\"Input text is empty or too short for summarization.\")\n",
        "    return \"Input text is empty or too short.\"\n",
        "\n",
        "  try:\n",
        "      summarizer = pipeline(\"summarization\", model=\"facebook/bart-large-cnn\")\n",
        "      print(\"Summarization pipeline loaded.\")\n",
        "\n",
        "      # --- Debugging Step: Capture and inspect the raw result ---\n",
        "      print(\"Calling summarizer...\")\n",
        "      raw_summarization_results = summarizer(text, max_length=500, min_length=50)\n",
        "      print(\"Summarizer call finished.\")\n",
        "\n",
        "      # --- Debugging Step: Print the raw result and its type/length ---\n",
        "      print(f\"Type of raw_summarization_results: {type(raw_summarization_results)}\")\n",
        "      if isinstance(raw_summarization_results, list):\n",
        "          print(f\"Length of raw_summarization_results: {len(raw_summarization_results)}\")\n",
        "          if len(raw_summarization_results) > 0:\n",
        "              print(f\"Type of first element: {type(raw_summarization_results[0])}\")\n",
        "              if isinstance(raw_summarization_results[0], dict):\n",
        "                   print(f\"Keys of first element: {raw_summarization_results[0].keys()}\")\n",
        "                   # You could even try printing the whole dictionary if it's not too large\n",
        "                   # print(f\"First element: {raw_summarization_results[0]}\")\n",
        "          else:\n",
        "              print(\"Raw summarization results list is empty.\")\n",
        "      else:\n",
        "          print(\"Raw summarization results is NOT a list.\")\n",
        "      # --- End Debugging Step ---\n",
        "\n",
        "\n",
        "      # Check if the result list is not empty before accessing the first element\n",
        "      if raw_summarization_results: # Use the captured variable\n",
        "          # Double-check if the first element is a dictionary and has the key\n",
        "          if isinstance(raw_summarization_results[0], dict) and 'summary_text' in raw_summarization_results[0]:\n",
        "              summary = raw_summarization_results[0]['summary_text']\n",
        "              return summary\n",
        "          else:\n",
        "              print(\"Summarizer returned an unexpected format.\")\n",
        "              return \"Could not generate summary due to unexpected format.\"\n",
        "      else:\n",
        "          print(\"Summarizer returned an empty list. Could not generate summary with current constraints.\")\n",
        "          return \"Could not generate summary with the given constraints.\"\n",
        "\n",
        "  except Exception as e:\n",
        "      print(f\"An error occurred during summarization: {e}\")\n",
        "      # Re-raise the exception to see the full traceback if it happens within the summarizer call\n",
        "      # raise e # Uncomment this line temporarily to see the full traceback\n",
        "      return \"Could not generate summary due to an unexpected error.\"\n",
        "\n",
        "# ... (rest of your code)\n",
        "\n",
        "# Example Usage:\n",
        "# Replace 'your_document.pdf' with the path to your PDF file\n",
        "pdf_file_path = '/content/Cab_Bills.pdf' # Make sure this file exists in your Colab environment or provide the correct path\n",
        "\n",
        "# You can upload a file using the file browser in Colab or use google.colab.files\n",
        "# from google.colab import files\n",
        "# uploaded = files.upload()\n",
        "# pdf_file_path = list(uploaded.keys())[0] # Assuming you upload one file\n",
        "\n",
        "pdf_text = extract_text_from_pdf(pdf_file_path)\n",
        "\n",
        "if pdf_text:\n",
        "  #user_prompt = \"Provide a summary of the main points in the document.\" # Replace with your desired prompt\n",
        "   user_prompt = \"Can you specify me date and total distace passenger travelled\" # Replace with your desired prompt\n",
        "   summary = generate_summary(pdf_text, user_prompt)\n",
        "   print(\"\\nSummary:\")\n",
        "summary\n",
        "\n"
      ]
    },
    {
      "cell_type": "code",
      "source": [],
      "metadata": {
        "id": "MGAAwSAUMnKg"
      },
      "execution_count": null,
      "outputs": []
    }
  ]
}